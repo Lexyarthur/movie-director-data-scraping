{
 "cells": [
  {
   "cell_type": "code",
   "execution_count": null,
   "id": "ff051b8d",
   "metadata": {
    "scrolled": true
   },
   "outputs": [],
   "source": [
    "import numpy as np\n",
    "import pandas as pd\n",
    "\n",
    "df = pd.read_csv('movie_data_copy.csv')\n",
    "df['director'] = df.director.str.replace(',', '')\n",
    "df['critic_cn'] = df.critic_cn.str.replace('(', '')\n",
    "df['critic_cn'] = df.critic_cn.str.replace(')', '')\n",
    "df['movie_name'] = df.movie_name.str.replace('^\\d*[.]\\s', '')\n",
    "# df.head()"
   ]
  },
  {
   "cell_type": "code",
   "execution_count": null,
   "id": "b0266c7c",
   "metadata": {},
   "outputs": [],
   "source": []
  },
  {
   "cell_type": "code",
   "execution_count": null,
   "id": "7cfe2ad3",
   "metadata": {},
   "outputs": [],
   "source": [
    "import requests\n",
    "my_url = ('https://www.imdb.com/find?q=mulholland+drive')\n",
    "raw_html = requests.get(my_url).content"
   ]
  },
  {
   "cell_type": "code",
   "execution_count": null,
   "id": "8c2c926a",
   "metadata": {
    "scrolled": false
   },
   "outputs": [],
   "source": [
    "from bs4 import BeautifulSoup\n",
    "soup_doc = BeautifulSoup(raw_html, 'html.parser')"
   ]
  },
  {
   "cell_type": "code",
   "execution_count": null,
   "id": "7cfe4b61",
   "metadata": {},
   "outputs": [],
   "source": [
    "directors = df.director\n",
    "directors_list = []\n",
    "directors = set(directors)\n",
    "for director in directors:\n",
    "    data = {}\n",
    "    string = director.replace(\" \",\"+\").lower()\n",
    "    href = \"https://www.imdb.com/find?q=\" + string\n",
    "    raw_html = requests.get(href).content\n",
    "    soup_doc = BeautifulSoup(raw_html, 'html.parser')\n",
    "    try:\n",
    "        all_result = soup_doc.table\n",
    "        td_result = all_result.find(class_=\"result_text\")\n",
    "        data['dir'] = director\n",
    "        data['url'] = td_result.a[\"href\"] \n",
    "        directors_list.append(data)\n",
    "    except:\n",
    "        print('No results found: '+director)\n",
    "directors_list"
   ]
  },
  {
   "cell_type": "code",
   "execution_count": null,
   "id": "cae437ec",
   "metadata": {},
   "outputs": [],
   "source": []
  },
  {
   "cell_type": "code",
   "execution_count": null,
   "id": "20dab720",
   "metadata": {
    "scrolled": true
   },
   "outputs": [],
   "source": [
    "directors_birth = []\n",
    "for each_dir in directors_list:\n",
    "    data = {}\n",
    "    try:\n",
    "        director = each_dir['dir']\n",
    "        href = \"https://www.imdb.com/\" + each_dir['url']\n",
    "        raw_html = requests.get(href).content\n",
    "        soup_doc = BeautifulSoup(raw_html, 'html.parser')\n",
    "        all_result = soup_doc.find(id='name-born-info')\n",
    "        data['director'] = each_dir['dir']\n",
    "        data['href'] = \"https://www.imdb.com/\" + each_dir['url']\n",
    "        data['director_birthYr'] = all_result.time['datetime']\n",
    "        data['director_cn'] =  all_result.find_all('a')[-1].text\n",
    "        directors_birth.append(data)\n",
    "    except:\n",
    "        print('No results found: ' +each_dir['dir'])\n",
    "directors_birth                                           "
   ]
  },
  {
   "cell_type": "code",
   "execution_count": null,
   "id": "308c6925",
   "metadata": {},
   "outputs": [],
   "source": [
    "import pandas as pd\n",
    "import numpy as np\n",
    "\n",
    "col_names = ['director', 'href', 'director_birthYr', 'director_cn']\n",
    "df2 = pd.DataFrame(directors_birth, columns=col_names)\n",
    "df2.to_csv('director_data.csv', index=False)\n",
    "df2.tail()"
   ]
  },
  {
   "cell_type": "code",
   "execution_count": null,
   "id": "418bc3f2",
   "metadata": {},
   "outputs": [],
   "source": []
  },
  {
   "cell_type": "code",
   "execution_count": null,
   "id": "d5cb8b7d",
   "metadata": {},
   "outputs": [],
   "source": [
    "df_new = pd.merge(df, df2, how='right', on='director')\n",
    "df_new.to_csv('movie_data_merged.csv', index=False)\n",
    "\n"
   ]
  }
 ],
 "metadata": {
  "kernelspec": {
   "display_name": "Python 3 (ipykernel)",
   "language": "python",
   "name": "python3"
  },
  "language_info": {
   "codemirror_mode": {
    "name": "ipython",
    "version": 3
   },
   "file_extension": ".py",
   "mimetype": "text/x-python",
   "name": "python",
   "nbconvert_exporter": "python",
   "pygments_lexer": "ipython3",
   "version": "3.9.7"
  }
 },
 "nbformat": 4,
 "nbformat_minor": 5
}
